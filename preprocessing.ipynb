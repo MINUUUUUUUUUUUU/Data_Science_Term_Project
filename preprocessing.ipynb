{
 "cells": [
  {
   "cell_type": "markdown",
   "source": [],
   "metadata": {
    "collapsed": false,
    "pycharm": {
     "name": "#%% md\n"
    }
   }
  },
  {
   "cell_type": "code",
   "execution_count": 61,
   "outputs": [],
   "source": [
    "import pandas as pd\n",
    "import requests\n",
    "from bs4 import BeautifulSoup as bs\n",
    "import time\n",
    "from tqdm import tqdm\n"
   ],
   "metadata": {
    "collapsed": false,
    "pycharm": {
     "name": "#%%\n"
    }
   }
  },
  {
   "cell_type": "code",
   "execution_count": 55,
   "outputs": [],
   "source": [
    "def channel(ch):\n",
    "\tpage = requests.get(\"https://us.youtubers.me/\"+ch+\"/youtube-videos-stats\")\n",
    "\tsoup = bs(page.text, \"html.parser\")\n",
    "\tname_temp = soup.select_one('#profile > div.top > div.status-bar > div.status-info > div.profile-name')\n",
    "\tname = ''.join(name_temp.find_all(text=True, recursive=False)).strip()#이름\n",
    "\tsubscribers = int(soup.select_one('#profile > div.top > div.status-bar > div.status-info > div.status-details > div:nth-child(1) > div.bottom-part').text.replace(' ','').replace('\\n','').replace(',',''))#구독자\n",
    "\tview_count = int(soup.select_one('#profile > div.top > div.status-bar > div.status-info > div.status-details > div:nth-child(2) > div.bottom-part').text.replace(' ','').replace('\\n','').replace(',',''))#조회수\n",
    "\tvideo_count = int(soup.select_one('#profile > div.top > div.status-bar > div.status-info > div.status-details > div:nth-child(3) > div.bottom-part').text.replace(' ','').replace('\\n','').replace(',',''))#영상 수\n",
    "\tcategory = (soup.select_one('#profile > div.top > div.status-bar > div.status-info > div.status-details > div:nth-child(5) > div.bottom-part').text.replace(' ','').replace('\\n','')) #카테고리\n",
    "\tyoutube_since =(int(soup.select_one('#profile > div.top > div.status-bar > div.status-info > div.status-details > div:nth-child(6) > div.bottom-part').text.replace(' ','').replace('\\n','')))#개설 연도\n",
    "\ttable = soup.select('#content > div > div.main.col.col-lg-8.col-md-8.col-sm-12 > div.stats-table > table > tr')\n",
    "\tview_mean = 0\n",
    "\ttry:\n",
    "\t\tfor i in range(1,6):\n",
    "\t\t\tview_mean = view_mean + int(table[i].select(' tr > td')[2].text.replace(',',''))\n",
    "\t\tview_mean = int(view_mean/5)\n",
    "\texcept IndexError as e:\n",
    "\t\tview_mean = 0\n",
    "\texcept ValueError as f:\n",
    "\t\tview_mean = 0\n",
    "\n",
    "\treturn name, subscribers, view_count, view_mean ,video_count, category ,youtube_since"
   ],
   "metadata": {
    "collapsed": false,
    "pycharm": {
     "name": "#%%\n"
    }
   }
  },
  {
   "cell_type": "code",
   "execution_count": 66,
   "outputs": [
    {
     "name": "stdout",
     "output_type": "stream",
     "text": [
      "('T-Series', 242000000, 224020601249, 34782385, 19693, 'Music', 2006)\n"
     ]
    },
    {
     "name": "stderr",
     "output_type": "stream",
     "text": [
      "/var/folders/cg/jmpyh1sx51gctwlq6vjd5dg40000gn/T/ipykernel_1645/2097312702.py:5: DeprecationWarning: The 'text' argument to find()-type methods is deprecated. Use 'string' instead.\n",
      "  name = ''.join(name_temp.find_all(text=True, recursive=False)).strip()#이름\n"
     ]
    }
   ],
   "source": [
    "print(channel('t-series'))"
   ],
   "metadata": {
    "collapsed": false,
    "pycharm": {
     "name": "#%%\n"
    }
   }
  },
  {
   "cell_type": "code",
   "execution_count": 64,
   "outputs": [
    {
     "name": "stderr",
     "output_type": "stream",
     "text": [
      "  0%|          | 0/1000 [00:00<?, ?it/s]/var/folders/cg/jmpyh1sx51gctwlq6vjd5dg40000gn/T/ipykernel_1645/2097312702.py:5: DeprecationWarning: The 'text' argument to find()-type methods is deprecated. Use 'string' instead.\n",
      "  name = ''.join(name_temp.find_all(text=True, recursive=False)).strip()#이름\n",
      "100%|██████████| 1000/1000 [24:36<00:00,  1.48s/it]\n"
     ]
    }
   ],
   "source": [
    "name_list = []\n",
    "subscribers_list = []\n",
    "view_count_list = []\n",
    "view_mean_list = []\n",
    "video_count_list = []\n",
    "category_list=[]\n",
    "youtube_since_list = []\n",
    "channel_list = ['t-series', 'movies', 'abckidtv-nursery-rhymes', 'set-india', 'mrbeast', 'music-4b953d11-d31a-4240-ad8f-3877a5424ae5', 'kids-diana-show', 'pewdiepie', 'like-nastya-vlog', 'vlad-and-nikita', 'zee-music-company', 'wwe', 'gaming', 'blackpink', 'goldmines-telefilms', 'sab-tv', '5-minute-crafts-ea0354c5-5ccf-472d-8433-01aade5e4998', 'sports', 'bangtantv', 'kidrauhl', 'ibighit', 'zeetv', 'pinkfong-kids-songs-stories', 'canal-kondzilla', 'filmi-gaane', 'chuchu-tv-nursery-rhymes-kids-songs', 'colors-tv', 't-series-bhakti-sagar', 'dude-perfect', 'movieclips', 'tips-official', 'wave-music', 'el-reino-infantil', 'aaj-tak', 'sony-music-india', 'eminemmusic', 'marshmello', 'yrf', 'looloo-kids-nursery-rhymes-and-children-s-songs', 'ed-sheeran', 'ariana-grande', 'taylor-swift', 'billion-surprise-toys', 'infobells-hindi', 'juegagerman', 'billie-eilish', 'badabun', 'shemaroo', 'get-movies', 'sonymusicindiavevo', 'fernanfloo', 'bad-bunny-pr', 'a4', 'felipe-neto', 'voot-kids', 'bright-side-c60fb598-1d61-449a-bd41-e3a0e5846175', 'voce-sabia', 'katy-perry-9995e62c-0f51-4075-8bcd-f875b8393ca4', 'whinderssonnunes', 'abs-cbn-entertainment', 'holasoygerman', 'alan-walker', 'shakira', '1ba0933d-8fa1-432e-a75b-36364ecd19ac', 'speed-records', 'stacy-toys', 'har-pal-geo', 'ary-digital', 'rihanna', 'masha-and-the-bear', 'venus', 'kimberly-loaiza', 'littlebabybum', 'luisito-comunica', 'elrubiusomg', 'toys-and-colors', 'shfa2', 'luccas-neto', 'xxxtentacion', 'workpointofficial', 'gr6-explode', 'carryminati', 'super-simple-songs-kids-songs', 'tedx-talks', 'theellenshow', 'shfa', 'one-direction', 'daddy-yankee', 'gaane-sune-ansune', 'mikecraft', 'sony-pal', 'jkk-entertainment', 'vlad-va-nikita', 'one', 'funny-stacy', 'maria-clara-jp', 'abp-news', 'maroon-5', 'bruno-mars', 'news', 'ultra-hindi', 'ozuna', 'power-kids', 'youtube-spotlight', 'canciones-de-la-granja', 'total-gaming', 'indiatv', 'markiplier', 'ryan-toysreview', 'bollywood-classics', 't-series-apna-punjab', 'genevieve-s-playhouse', 'geetmp3', 'j-balvin', 'old-hindi-songs', 'vegetta777', 'desi-music-factory', 'galinha-pintadinha', 'sssniperwolf', 'techno-gamerz', 'khandeshi-movies', 'selena-gomez', 'nocopyrightsounds', 'tv3-official', 'cvs-3d-rhymes', 'jingle-toons', 'rajshri', 'mrbeast-gaming', 'babybus-kids-tv-songs-stories', 'eros-now', 'disneymusicvevo', 'xoxxxoooxo', 'ricis-official', 'rezendeevil', 'mr-bean', 'genial', 'smtown', 'justinbiebervevo', 'karolgmusic', 'dream-81cbb8e3-538d-47f4-b0ca-ea5c1419c6fc', 'dona-f1eb49b7-d068-4a13-a423-07e48d1f6fc6', 'worldwide-records-bhojpuri', 'luis-fonsi-vivo', 'wow-kidz', 'gma-network', 'mr-indian-hacker', 'the-tonight-show-starring-jimmy-fallon', 'lucas-and-marcus', 'peppa-pig-official-channel', 'imaginedragons', 'trap-nation', 'atta-halilintar', 'diana-and-roma-esp', 'boram-tube-vlog', 'thedonato-clash-royale-mas', 'round2hell', 'star-plus', 'zee-news', 'little-angel', 'spinnin-records', 'toyoraljanahtv', 'adele-d46c93c0-2256-460d-aab6-c1777e872f89', 'talking-tom', '75e2b97e-3c37-4b85-a427-a57026bea298', 'shawn-mendes', 'jacksepticeye', 'ashish-chanchlani-vines', 'ultra-music', 'popular-on-youtube', 'maluma', 'auronplay', 'aboflah', 'infobells-tamil', 'beter-bocuk', 'the-late-late-show-with-james-corden', 'yolo-aventuras', 'aditya-music', 'enaldinho', 'drake', 'michael-jackson', 'aditya-movies-telugu-hindi', 'bounce-patrol-kids', 'frost-diamond', 'infobells-telugu', 'sandeep-maheshwari', 'goldmines-dishoom', 'masha-y-el-oso', 'zhong', 'shemaroo-movies', 'wiz-khalifa', 'toycantando', 'hum-tv', 'nickelodeon-junior-france', 'tv-toypudding', 'jypentertainment', 'kids-roma-show', 'jess-no-limit', 'thediamondminecart-dantdm', 'blade-xyz', 'renato-garcia', 'enchufetv', 'mrbrent98', 'netflix-us-canada', 'worldstarhiphop', 'bb-ki-vines', 'raffy-tulfo-in-action', 'shorts-break', '1million-dance-studio', 'beyonce', 'd-billions', 'marilia-mendonca', 'vanossgaming', 'goldmines-hindi', 'lospolinesios', 'taylorswiftvevo', 'david-guetta', 'nicki-minaj', 'dushyant-kukreja', 'post-malone', 'zhc', 'rans-entertainment', 'chrisbrowntv', 'watchmojo-com', 'gisclau-toys', 'rihannavevo', 'gulshan-kalra', 'coldplay-official', 'indosiar', 'smosh', 'trans7-official', 'lankybox', 'yuya', 'eminemvevo', 'wb-kids', 'mr-beast', 'abp-news-hindi', 'katyperryvevo', 'the-lallantop', 'anuel-aa', 'alan-chikin-chow', 'chloe-ting', '1thek', 'junya', 'amit-bhadana', 'mrbeast-shorts', 'nichlmao', 'super-jojo-nursery-rhymes', 'djsnaketv', 'ksi', 'like-nastya-ae', 'mrbeast-en-espanol', 'mark-rober', 'pen-movies', 'netd-muzik', 'collins-key', 'dan-rhodes', 'diana-play', 'shfa-show-india', 'james-charles', 'america-s-got-talent', 'ninja-328fed8f-3548-4cd6-9fc0-d3b2d54fec36', 'mister-max', 'troom-troom', 'enrique-iglesias', 'prestonplayz-minecraft', 'venus-movies', 'logan-paul-vlogs', 'goldmines-movies', 'nickyjamtv', 'jelly', 'faze-rug', 'roma-diana', 'peppa-pig-canal-oficial-espanol-latinoamerica', 'miss-katy', 'sesame-street', 'happy-lives', 'juan-de-dios-pantoja', 'erlania-pontes', 'sunny-bunny', 'lady-gaga', 'alejo-igoa', 'gmm-grammy-official', 'mujjuu___14', 'drossrotzank', 'technical-guruji', 'ted', 'panda-boi', 'bhojpuri-hot', 'white-hill-production', 'spider-slack', 'daniel-labelle', 'babybus-canciones-infantiles-cuentos', 'the-chainsmokers', 'mmoshaya', 'like-nastya-prt', 'ultra-movie-parlour', 'sia', 'toyorbabytv', 'vlad-and-niki-arabic', 'paulo-londra', 'action-ka-baap', 'smile-toys-review', 'tilak', 'kids-tv-nursery-rhymes-and-children-s-songs', 'ssundee', 'alan-becker', '94b2420d-8a5f-49fd-88bb-8cf3ab9dd571', 'fgteev', 'suntv-tamil', 'that-little-puff', 'charlie-puth', 'kinder-spielzeug-kanal', 'onedirectionvevo', 'disneychannella', 'tsuriki-show', 'akshay-nagwadiya', 'national-geographic', 'dua-lipa', 'unknown-boy-varun', 'netflix-india', 'eva-bravo-play', 'rotana', 'televisa-telenovelas', 'becky-g', 'tekashi-6ix9ine', 'baim-paula', 'tasty', 'vlad-and-niki-esp', 'nigahiga', 'exetrize', 'village-cooking-channel', 'zach-choi-asmr', 'gma-public-affairs', 'sourav-joshi-vlogs', 'infinite-lists', 'the-royalty-family', 'invictorgs3', 'fede-vigevani', 'ben-azelart', 'brave-wilderness', 'khan-gs-research-centre', 'cole-bennett', 'canalcanalha', 'vivek-bindra-motivational-speaker', 'fatos-desconhecidos', 'romeo-santos', '5-minute-crafts-girly', 'stokes-twins', 'sidhu-moose-wala', 'kurzgesagt-in-a-nutshell', 'minecraft-topic', 'avicii', 'mnet-k-pop', 'nba', 'deddy-corbuzier', 'smol', 'lazarbeam', 'vlad-dan-nikita', 'kids-fun', 'totoykids', 'linkin-park', 'leonata-family', 'slivkishow', 'ninja-kidz-tv', 'jake-paul', 'family-gamestv', 'genevieve-s-playhouse-bee1158e-eb5d-42a7-956e-f1853632c08f', 'buzzfeedvideo', 'dangal-tv-channel', 'heroindori', 'authenticgames', 'skrillex', 'babybus-cerita-lagu-anak-anak', 'yo-soy-yolo', 'liv-crime-15af63a1-e0a6-4911-8820-bd4d86e1e7ae', 'emiway-bantai', 'got-talent-global', 'marvel-entertainment', 'fine-brothers-entertainment', 'azhan5star', 'sagawa', 'robin-hood-gamer', 'noor-stars', 'vevo', '5-minute-crafts-kids', 'ptxofficial', 'pencilmation-cartoons', 'green-gold', 'vijay-television', 'bizarrap', 'gordon-ramsay', 'jennamarbles', 'cookieswirlc', 'gusttavo-lima-oficial', 'crafty-panda', 'haertetest', 'miawaug', 'surya-citra-televisi-sctv', 'clash-of-clans', 'troom-troom-es', 'topper-guild', 'official-pink-panther', 'britain-s-got-talent', '7clouds', 'kiddiestv-hindi', 'trt-ertugrul-by-ptv', 'a_s-gaming', 'somoy-tv', 'dls-news', 'jukilop', 'shane', 'fifatv', 'sony-aath', 'etvteluguindia', 'rkd-digital', 'marta-and-rustam', 'manoj-parihar', 'jimmy-kimmel-live', 'sonotek', 'lil-nas-x', 'calvin-harris', 'theodd1sout-comic', '98c1d52a-9522-4c97-bcdb-b89b9ea15f24', 'vsauce', 'kbs-world-tv', 'himan', 'turma-da-monica', 'little-angel-espanol', 'cardi-b', 'ckn-toys', 'super-slime-sam', 'masha-e-o-urso', '83e22c93-4bbe-477b-8b61-f2d8bdccf417', 'farruko', 'ali-a', 'great-indian-comedy', 'ted-ed', 'wow-kidz-action', 'the-ace-family', 'sidemen', 'thewillyrex', 'grammy-gold-official', 'pdk-films', 'shakiravevo', 'ishaan-ali-11', 'daniel-saboya', 'like-nastya', 'indian-comedy', 'smile-toys-happy', 'busy-fun-ltd', 'mr-marmok', 'yoeslan', 'kl-bro-biju-rithvik', 'zach-king', 'unbox-therapy', 'incrivel', 'naisa-alifia-yuriza-n-a-y', 'good-mythical-morning', 'rsiammusic', 'triggered-insaan', 'dhar-mann', 'miley-cyrus', 'gen-halilintar', 'arab-games-network', 'squeezie', 'dednahype', 'officialpsy', 'tuzelity-shuffle', 'robleisiutu', 'mother-goose-club-playhouse', 'thegrefg', 'sebastian-yatra', 'demi-lovato', 'david-dobrik', 'lele-pons', 'zuni-and-family', 'sonymusicsouthvevo', 'manual-do-mundo', 'like-nastya-vnm', 'katie-angel', 'blippi', 'lil-pump', 'jane-asmr', 'arianagrandevevo', 'and-tv', 'tanboy-kun', 'porta-dos-fundos', 'jflamusic', 'les-copaque-production', 'ajay-sharma', 'news-24', '72e3911a-aa19-46a0-8d35-2765fa64de80', 'facttechz', 'the-game-theorists', 'jason-derulo', 'zbing-z', 'ign', 'missasinfonia', 'stubborn-facts', 'how-ridiculous', '04295bf4-88f5-4dec-a178-4ce8995303af', 'willyrex', 'ami-rodriguez', 'amarin-tvhd', 'my-story-animated', 'howtobasic', 'liza-koshy', 'popularmmos', 'el-reino-a-jugar', 'funtoysmedia', 'anitta', 'luisfonsivevo', 'jake-fellman', 'trans-tv-official', 'el-payaso-plim-plim', 'aphmau', 'thebrianmaps', 'toys-and-little-gaby', 'queen-official', 'willie-salim', 'marques-brownlee', 'prajapati-news', 'guava-juice', 'eeoneguy', 'apple', 'ibn7', 'surprise-eggs-kinder-toys', 'vice', 'aayu-and-pihu-show', 'degoboom', 'detoxomoroxo', 'ishowspeed', 'pop-chartbusters', 'tu-cosmopolis', 'taarak-mehta-ka-ooltah-chashmah', 'koray-zeynep', 'gato-galactico', 'ideas-en-5-minutos-ee4a018e-56ad-49cc-98ee-49cec85431ac', 'travis-scott-adfe04b9-3c96-48af-b066-4cf9928d0557', 'with-kids', 'like-nastya-idn', 'werevertumorro', 'failarmy', 'ivana-alawi', 'nutticha-namwong', 'lahari-music-t-series', 'sandraciresart', 'nmf-news', 'funfun-toyshow', 'sam-smith', 'rcti-layar-drama-indonesia', 'w2s', 'boyceavenue', 'coryxkenshin', 'little-mix', 'sribalajimovies', 'ksiolajidebthd', 'bispo-bruno-leonardo', 'kids-play-0f26377e-ad40-4d50-a298-36d003e72d33', 'bbc-hindi', 'ch7', 'gmmtv', '7558c8a8-84a1-41d4-a6f7-fc17dfbc3795', 'matt-stonie', 'pitbull-bb3da4a4-c02a-40b8-aab7-1f0afbaffe61', 'camila-cabello-5a04d53c-5072-450e-b368-fa9ccaba2e6f', 'extrapolinesios', 'jennifer-lopez', 'fitdance', 'technoblade', 'adme-ru', 'bobby-chourasiya', 'irmaos-neto', 'thairath', 't3ddy', 'lego', 'jordan-matter', 'antrax', 'dyland-pros', 'live-45f82264-394f-4029-814f-494a2dd9eb6c', 'pops-kids', 'ufc-ultimate-fighting-championship', 'bollywood-classics-8c71faa5-a542-4058-a2fd-49fe7263b659', 'wifistudy', 'jaanvi-patel', 'dopelyrics', 'ndng-enes-batur', 'la-rosa-de-guadalupe', 'jeffreestar', 'vlad-and-niki-ara', 'twice', 'camilo-echeverry', 'totoykids-espanol', 'priyal-kukreja', 'mk-music', 'movieclips-trailers', 'danny-fitt', 'lyna', 'team-films-bhojpuri', 'unspeakable', 'deepesh-zo', 'daily-dose-of-internet', 'caelike', 'dear-sir', 'volga-video', 'disneyjunior', '5-minute-crafts-family', 'talking-tom-and-friends', 'zee-music-rewind', 'linustechtips', 'my-family', 'super-senya', 'henrique-e-juliano', 'arifmuhammadd', 'juliana-baltar', 'blippi-espanol', 'zamzam-electronics-trading', 'romanatwoodvlogs', '5-1936c8f5-2252-40bb-aa3e-945586cb279c', 'kerajinan-5-menit', 'lokesh-gamer', 'genierock', 'sagar-kalra-shorts', 'zayn', 'harsh-beniwal', 'e993eecb-5a33-4ea6-8f91-71d065161a41', 'mobile-legends-bang-bang', 'salman-noman', 'oyuncak-avi-tv', 'dave-and-ava-nursery-rhymes-and-baby-songs', 'kuplinov-play', 'katakit-baby-tv', 'niana-guerrero', 'fortnite-fun-tv', 'infobells-bangla', 'ndtv-india', 'makiman131', '27c0810d-bede-41cb-a6a6-d09e6aeb777e', 'cnn', 'musas', 'mariale', 'fc-barcelona', 'ranz-kyle', 'daftar-populer', 'adelevevo', 'srk-music', 'dm-desi-melodies', 'bigbang', 'therichest', 'kim-loaiza-e608ee1e-e0b6-450f-ad17-7a031b55e86f', 'hongyu-asmr', 'league-of-legends', 'abs-cbn-news', 'mazhavil-manorama', 'mohamed-ramadan', 'edisonpts', 'xpresstv', 'it-s-mamix', 'erb', '70750d7d-acf4-4de8-b391-e7a5406f8d37', 'xo-team-cd696360-7bdb-4603-800d-82fcfacc1c5c', 'little-angel-portugues', 'kompastv', 'kwebbelkop', 'kashvi-adlakha', 'playstation', 'the-mridul', 'ze-neto-e-cristiano', 'mnctv-official', 'itowngameplay-terror-diversion', 'lachlan', 'tazercraft', 'hamaarbhojpuri', 'jorge-e-mateus-oficial', 'narendra-modi', 'maha-fun-tv', 'powerfuljre', 'mattybraps', 'fueled-by-ramen', '50-cent', '5-minute-crafts-recycle', 'collegehumor', 'f39638de-bb50-4adb-ba96-816d8d4dabb8', 'meghan-trainor', 'sonyliv', 'a2-motivation-arvind-arora', 'melanie-martinez', 'mrwhosetheboss', 'the-slow-mo-guys', '820ea10f-cf60-4174-a0e8-a65b14d4aae1', 'crashcourse', 'canal-nostalgia', 'thaich8', 'majorlazer', 'the-brown-siblings', 'martin-garrix', 'sony-music-south', 'boram-tube-toysreview', 'ray-william-johnson', 'chad-wild-clay', 'auron', 'reaction-time', 'planeta-das-gemeas', 'ideias-incriveis-fed70e88-aad0-4e22-8447-a473940762cf', 'officialfifthharmony', 'hear-this-music', 'les-boys-tv2', 'telemundo', 'camila-loures', 'doc-tops', 'legenda-funk-original', 'maroon5vevo', 'iisuperwomanii', 'harry-styles-bcb20f29-356a-4e11-9036-b1d56dd2ceef', 'aadishakti-films', 'draw-tops', 'anasala-family-i', 'like-nastya-stories', 'selenagomezvevo', 'abc-news', 'prestonminecraft', 'rosanna-pansino', 'study-iq-education', 'mis-pastelitos', 'gyan-gaming', 'lotus-music', 'gmm25thailand', 'storybots', 'saad-lamjarred', 'cyprien', 'o-reino-das-criancas', 'rclbeauty101', 'zig-sharko', 'vlad-and-niki-prt', 'super-polina', 'zee5', 'nobru', 'rebecca-zamolo', 'indore-physical-academy', 'comedy-nights', 'sis-vs-bro', 'bbc-news', 'coke-studio', 'inventonahoratv', 'zutigang', 'chetan-monga-vlogs', 'wish-107-5', 'trap-city', 'crazyfrogvevo', '27b5e4f2-9486-44d7-9345-7e36b4285545', 'refugio-mental', '82e4c542-07cf-4015-ab04-b61779c0ed10', 'bie-the-ska', 'nikkietutorials', 'dangmattsmith', 'malumavevo', 'f2freestylers-ultimate-soccer-skills-channel', 'rs-1313-shorts', 'am3nlc', 'ruben-tuesta-oficial', 'republic-bharat', 'neha-kakkar-822fe616-ce9c-4b23-9dd2-76686020b3cf', 'zeebangla', 'etv-jabardasth', 'noman-official', 'tv9-bharatvarsh', 'tv-ana-emilia', 'eli-kids-cartoons-songs', 'e-mastersensei', 'vete-a-la-versh', 'narins-beauty', 'gallinapintadita', 'ilya-borzov', 'adel-et-sami', 'crescendo-com-luluca', '123-go-spanish', '422b23dd-ea72-45c9-9fd6-afc5bbd46a53', 'lana-del-rey', 'tommyinnit', 'zeetvtelugu', 't-series-regional', 'alfredo-larin', 'infobells-kannada', 'morealia', 'atlantic-records', 'yudist-ardhana', 'luli-pampin', 'fap-tv', 'jazzghost', 'jd-pantoja', 'jamuna-tv', 'younes-zarou', 'chapitosiki', 'the-dodo', 'veritasium', 'maiki021', 'wesley-safadao', 'infobells', 'karameeshchannel', 'kids-tv-india-nursery-rhymes-kids-songs', 'lindsey-stirling', 'mymissanand', 'the-hacksmith', 'playhard-clash-of-clans', 'come-play-with-me', 'nisha-madhulika', 'wengie', 'think-music-india', '622325a9-29bd-4153-b800-ea25bcd01e60', 'saturday-night-live', 'geonews', 'atro', 'pozzitifonshow', 'amazon-prime-video-india', 'jojo-kids-nursery-rhymes-for-kids', 'zeinab-harake', 'bbc', 'jesserthelazer', 'desi-gamers', 'sevengers', 'beast-philanthropy', 'lady-diana-e8688242-f47a-4f91-8dbb-7fbf41027f74', 'kimpro', 'awakening-records', 'the-q', 'typical-gamer', 'prettypriyatv', 'conor-maynard', 'the-world-adventures', 'azzyland', 'mythpat', 'bayashi-tv', 'goldmines-premiere', 'o-que-nao-dizer-oficial', 'mr-degree', 'h2odelirious', 'alexa-rivera', 'dallmyd', 'my-mate-nate', 'matt-steffanina', 'athlean-x', 'budi01-gaming', 'gma-news-and-public-affairs', 'codiscos', 'theradbrad', 'kurt-hugo-schneider', 'vibhu-96', 'dental-digest', 'vextrex', 'jbalvinvevo', 'blockbuster-movies', 'kids-line', 'ei-nerd', 'kabita-s-kitchen', 'trakin-tech', 'brawl-stars', 'twenty-one-pilots', 'oficialhungria', '096a9031-07c1-41a1-8a53-afec2ed7c49c', 'redetv', 'pokemon-india', 'cookingshooking-hindi', 'penguinz0', 'the-infographics-show', 'vogue', 'airrack', 'alex-gonzaga-0df38a43-158b-4440-871a-324e8f3c625c', 'sonotek-bhakti', 'peppa-pig-canal-oficial-portugues-brasil', 'issei', 'just-for-laughs-gags', 'acenix', 'special-documentary-4067ce48-a0d5-4805-9f05-c4fbd505515e', 'mc-divertida', 'dj-khaled-8009e002-7c47-46a5-bed9-98b348dff162', 'lokdhun-punjabi', 'wolfoo-channel', 'technology-gyan', 'woody-kleiny', 'supercar-blondie', '7-minutoz', 'banderitax', 'everson-zoio', 'vlad-y-niki-show', 'matheus-yurley', 'jesseandmike', 'cole-sav', 'calon-sarjana', 'the-santoso', 'musictalentnow', 'the-shiny-peanut', 'raptorgameryt-sorteos-gameplays-y-mas', 'gymvirtual', 'enriqueiglesiasvevo', 'c6697340-89f5-470c-8020-055079a8cf68', 'davie504', 'wiederdude-f02f1bf3-c3c4-4894-b7f0-539c944d6233', 'bibo-659db9a0-494e-4d1e-a296-64a0e8c0be9c', 'akon', 'tiempodesol', 'mrsuicidesheep', 'refugio-mental-757d24ec-d546-44f0-93ba-b3b6d5ec8152', 'beyoncevevo', 'twinsfromrussia', 'chilledcow', 'bibo-24c153d1-6e00-4928-b038-5b641bcec993', 'vijay-kumar-viner-vlogs', 'beatboxjcop', 'troomtroom-india', '84487795-ac6b-44fd-a6e9-04d83bc8b63b', 'jass-records', 'painzeiro', 'rauwalejandrotv', 'piuzinho', 'julia-gisella', 'sanjoy-das-official', 'melon-city-show', 'talking-angela', 'adexe-nau', 'elliegoulding', 'alarabiya', 'franco-escamilla', 'diana-show-indonesia', 'blossom-641dc968-1af5-4346-aa81-16d57a66672a', 'stray-kids', 'pastor-antonio-junior', 'heidi-y-zidane-en-espanol', 'future-aaf0b65b-d788-423c-ade6-920b3fb59e5e', 'nickiminajatvevo', 'youngboy-never-broke-again', 'health-time', 'ryan-trahan', 'morgz', 'caseyneistat', 'saaihalilintar', 'parafernalha', 'adam-w', 'wolfoo-family', 'ja-mill', 'littlebabybum-espanol', 'chhotu-ki-masti', 'gibby', 'elcarteldesantatv', 'mas-skabeche', 'migos-atl', 'pari-s-lifestyle', 'ndtv', 'troom-troom-pt', 'timba-vk', 'loud-fda847b3-f78b-493b-a879-816e12c2c41b', 'colinfurze', 'react', 'disneychanneluk', 'grant-thompson-the-king-of-random', 'hzhtube-kids-fun', 'yair17-clash-royale-y-mucho-mas', 'troom-troom-indonesia', 'wave-bhojpuri', 'quantum-tech-hd', 'hero-movies-2017', 'avril-lavigne', 'sr-toys-collection', 'flowers-comedy', 'belabagunca-disneysurpresa', 'first-we-feast', 'bharatzkitchen-hindi', 'ice-cream-rolls', 'mundo-bita', 'huba', 'peet-montzingo', 'danirep-6-videos-diarios-de-gta-5-online', 'ian-boggs', 'its-jojo-siwa', 'zeeq-india', 'gustavo-parodias', 'right-to-shiksha', 'zeetamil', 'susy-mouriz', 'make-joke-of', 'goldminesaction', 'the-vishal-bhatt', 'eltrece', 'natti-natasha', '123-go', 'panda-103e1e82-3f1d-440b-b295-d5efaeb9b9ae', 'kylie-jenner', 'sulgi', 'luan-santana', 'mbc-035b2561-2742-4342-8a19-5d8d35dc2afb', 'biper-y-sus-amigos', 'pocoyo-1e9def34-ab77-4339-ba04-4b15e52e0fd6', 'mor-haryanvi', 'lulu99', 'toys-unlimited', 'ary-news', 'mtv2', 'lipaogamer', 'black-eyed-peas', 'de0459d2-914e-42d6-a456-1e3f80f5eab4', 'robtopgames'\n",
    "]\n",
    "for ch in tqdm(channel_list):\n",
    "\ttry:\n",
    "\t\tname, subscribers, view_count, view_mean ,video_count, category ,youtube_since = channel(ch)\n",
    "\texcept IndexError as e:\n",
    "\t\tprint(e)\n",
    "\t\tprint(ch)\n",
    "\t#time.sleep(2)\n",
    "\tname_list.append(name)\n",
    "\tsubscribers_list.append(subscribers)\n",
    "\tview_count_list.append(view_count)\n",
    "\tview_mean_list.append(view_mean)\n",
    "\tvideo_count_list.append(video_count)\n",
    "\tcategory_list.append(category)\n",
    "\tyoutube_since_list.append(youtube_since)\n"
   ],
   "metadata": {
    "collapsed": false,
    "pycharm": {
     "name": "#%%\n"
    }
   }
  },
  {
   "cell_type": "code",
   "execution_count": 68,
   "outputs": [],
   "source": [
    "df =pd.DataFrame({'name':name_list, 'subscribers':subscribers_list, 'view_count':view_count_list, 'view_mean':view_mean_list ,'video_count':video_count_list, 'category':category_list ,'youtube_since':youtube_since_list})\n",
    "df.to_csv(\"/Users/jongmin/Downloads/ds.csv\", mode='w')"
   ],
   "metadata": {
    "collapsed": false,
    "pycharm": {
     "name": "#%%\n"
    }
   }
  },
  {
   "cell_type": "code",
   "execution_count": 67,
   "outputs": [
    {
     "data": {
      "text/plain": "[242000000,\n 167000000,\n 159000000,\n 156000000,\n 155000000,\n 118000000,\n 111000000,\n 111000000,\n 105000000,\n 97300000,\n 95200000,\n 95000000,\n 93500000,\n 88600000,\n 85300000,\n 81100000,\n 79900000,\n 75000000,\n 74800000,\n 71400000,\n 70700000,\n 69000000,\n 67300000,\n 66500000,\n 65000000,\n 64800000,\n 62800000,\n 60000000,\n 59400000,\n 59300000,\n 58400000,\n 57400000,\n 57400000,\n 56900000,\n 56800000,\n 56400000,\n 56300000,\n 53700000,\n 53700000,\n 53300000,\n 52600000,\n 51800000,\n 51700000,\n 51500000,\n 47900000,\n 47700000,\n 46700000,\n 46400000,\n 46400000,\n 46000000,\n 45900000,\n 45900000,\n 45500000,\n 45000000,\n 44600000,\n 44500000,\n 44500000,\n 44100000,\n 44100000,\n 43700000,\n 43500000,\n 43300000,\n 42600000,\n 42600000,\n 42300000,\n 42300000,\n 41800000,\n 41800000,\n 41700000,\n 40800000,\n 40800000,\n 40700000,\n 40800000,\n 40400000,\n 40400000,\n 39400000,\n 39200000,\n 39100000,\n 39000000,\n 38800000,\n 38700000,\n 38500000,\n 38400000,\n 38300000,\n 38200000,\n 38100000,\n 38100000,\n 37800000,\n 37700000,\n 37600000,\n 37300000,\n 37200000,\n 37100000,\n 37100000,\n 36700000,\n 36600000,\n 36500000,\n 36500000,\n 36500000,\n 36300000,\n 36300000,\n 36100000,\n 35800000,\n 35800000,\n 35100000,\n 35000000,\n 34900000,\n 34900000,\n 34800000,\n 34500000,\n 34300000,\n 33800000,\n 34100000,\n 34000000,\n 33900000,\n 33800000,\n 33700000,\n 33500000,\n 33500000,\n 33500000,\n 33400000,\n 33400000,\n 33300000,\n 33200000,\n 33100000,\n 32800000,\n 32900000,\n 32500000,\n 32500000,\n 32500000,\n 32300000,\n 32200000,\n 32200000,\n 32000000,\n 31900000,\n 31800000,\n 31700000,\n 31600000,\n 31500000,\n 31500000,\n 31400000,\n 31400000,\n 31400000,\n 31300000,\n 31100000,\n 31100000,\n 31100000,\n 30900000,\n 30800000,\n 30500000,\n 30400000,\n 30300000,\n 30300000,\n 30200000,\n 30200000,\n 30200000,\n 29800000,\n 30000000,\n 30000000,\n 30000000,\n 30000000,\n 30000000,\n 30000000,\n 30000000,\n 29900000,\n 29700000,\n 29600000,\n 29500000,\n 29300000,\n 29200000,\n 29200000,\n 29100000,\n 28700000,\n 28700000,\n 28400000,\n 28700000,\n 28200000,\n 27900000,\n 28000000,\n 27900000,\n 27800000,\n 27800000,\n 27500000,\n 27700000,\n 27600000,\n 27500000,\n 27400000,\n 27500000,\n 27500000,\n 27400000,\n 27400000,\n 27000000,\n 27000000,\n 27100000,\n 27000000,\n 26900000,\n 27000000,\n 26900000,\n 26900000,\n 26700000,\n 26700000,\n 26400000,\n 26400000,\n 26400000,\n 26200000,\n 26200000,\n 26100000,\n 26000000,\n 25900000,\n 25900000,\n 25900000,\n 25800000,\n 25800000,\n 25700000,\n 25700000,\n 25500000,\n 25500000,\n 25200000,\n 25200000,\n 25400000,\n 25100000,\n 25100000,\n 25100000,\n 25100000,\n 25100000,\n 25000000,\n 25000000,\n 25000000,\n 25000000,\n 24800000,\n 24700000,\n 24800000,\n 24800000,\n 24700000,\n 25000000,\n 24700000,\n 24700000,\n 24700000,\n 24600000,\n 24600000,\n 24600000,\n 24500000,\n 24300000,\n 24400000,\n 24800000,\n 24300000,\n 24200000,\n 24100000,\n 24100000,\n 24000000,\n 24000000,\n 24000000,\n 23900000,\n 23900000,\n 23900000,\n 23900000,\n 23900000,\n 23800000,\n 23800000,\n 23700000,\n 23700000,\n 23700000,\n 23700000,\n 23700000,\n 23700000,\n 23600000,\n 23600000,\n 23600000,\n 23500000,\n 23500000,\n 23500000,\n 23500000,\n 23400000,\n 23400000,\n 23300000,\n 23300000,\n 23300000,\n 23300000,\n 23100000,\n 23100000,\n 23100000,\n 23000000,\n 22900000,\n 22900000,\n 23000000,\n 22900000,\n 22400000,\n 22900000,\n 22800000,\n 22600000,\n 22700000,\n 22700000,\n 22500000,\n 22500000,\n 22500000,\n 22500000,\n 22500000,\n 22300000,\n 22200000,\n 22300000,\n 22300000,\n 22300000,\n 22100000,\n 22100000,\n 22200000,\n 22200000,\n 22000000,\n 22000000,\n 22000000,\n 22000000,\n 21900000,\n 21800000,\n 21800000,\n 21700000,\n 21400000,\n 21600000,\n 21600000,\n 21600000,\n 21800000,\n 21400000,\n 21500000,\n 21500000,\n 21200000,\n 21200000,\n 21100000,\n 21100000,\n 21100000,\n 21100000,\n 21100000,\n 21100000,\n 21000000,\n 21000000,\n 21000000,\n 20900000,\n 21000000,\n 20800000,\n 20900000,\n 20900000,\n 20900000,\n 20800000,\n 20800000,\n 20800000,\n 20800000,\n 20800000,\n 20700000,\n 20700000,\n 20700000,\n 20600000,\n 20500000,\n 20600000,\n 20500000,\n 20500000,\n 20500000,\n 20600000,\n 20500000,\n 20400000,\n 20400000,\n 20400000,\n 20400000,\n 20300000,\n 20300000,\n 20300000,\n 20300000,\n 20300000,\n 20300000,\n 20300000,\n 20100000,\n 20200000,\n 20200000,\n 20100000,\n 20100000,\n 20100000,\n 20100000,\n 20300000,\n 20000000,\n 20100000,\n 20100000,\n 20100000,\n 20000000,\n 20000000,\n 20000000,\n 20000000,\n 20000000,\n 20000000,\n 20000000,\n 20000000,\n 20000000,\n 19900000,\n 19900000,\n 19900000,\n 19800000,\n 19700000,\n 19800000,\n 19800000,\n 19800000,\n 19800000,\n 19800000,\n 19600000,\n 19600000,\n 19600000,\n 19200000,\n 19500000,\n 19500000,\n 19500000,\n 19500000,\n 19500000,\n 19500000,\n 19400000,\n 19400000,\n 19400000,\n 19300000,\n 19300000,\n 19200000,\n 19200000,\n 19200000,\n 19100000,\n 19100000,\n 19100000,\n 19100000,\n 19000000,\n 19000000,\n 19000000,\n 18900000,\n 18900000,\n 18900000,\n 18800000,\n 18800000,\n 18800000,\n 18800000,\n 18700000,\n 18700000,\n 18700000,\n 18600000,\n 18600000,\n 18600000,\n 18600000,\n 18600000,\n 18600000,\n 18500000,\n 18500000,\n 18400000,\n 18400000,\n 18400000,\n 18400000,\n 18400000,\n 18400000,\n 18400000,\n 18300000,\n 18300000,\n 18400000,\n 18300000,\n 18300000,\n 18700000,\n 18300000,\n 18200000,\n 18200000,\n 18200000,\n 18200000,\n 18200000,\n 18100000,\n 18100000,\n 18100000,\n 18100000,\n 18000000,\n 18000000,\n 18000000,\n 18000000,\n 18000000,\n 17900000,\n 17900000,\n 17900000,\n 17900000,\n 17900000,\n 17900000,\n 17900000,\n 17800000,\n 17800000,\n 17800000,\n 17800000,\n 17700000,\n 17700000,\n 17700000,\n 17700000,\n 17700000,\n 17600000,\n 17600000,\n 17600000,\n 17600000,\n 17500000,\n 17500000,\n 17500000,\n 17500000,\n 17500000,\n 17400000,\n 17500000,\n 17500000,\n 17400000,\n 17500000,\n 17300000,\n 17300000,\n 17300000,\n 17200000,\n 17200000,\n 17200000,\n 17200000,\n 17200000,\n 17100000,\n 17100000,\n 17100000,\n 17100000,\n 17100000,\n 17000000,\n 16800000,\n 17000000,\n 17000000,\n 17000000,\n 17000000,\n 17000000,\n 16900000,\n 17100000,\n 16900000,\n 16900000,\n 16900000,\n 16900000,\n 16900000,\n 16800000,\n 16800000,\n 16800000,\n 16800000,\n 16700000,\n 16700000,\n 16700000,\n 16700000,\n 16700000,\n 16600000,\n 16600000,\n 16600000,\n 16600000,\n 16600000,\n 16600000,\n 16600000,\n 16600000,\n 16500000,\n 16500000,\n 16400000,\n 16400000,\n 16400000,\n 16400000,\n 16400000,\n 16300000,\n 16300000,\n 16300000,\n 16300000,\n 16300000,\n 16200000,\n 16300000,\n 16200000,\n 16300000,\n 16200000,\n 16200000,\n 16200000,\n 16200000,\n 16300000,\n 16200000,\n 16200000,\n 16200000,\n 16200000,\n 16100000,\n 16100000,\n 16100000,\n 16100000,\n 16100000,\n 16100000,\n 16100000,\n 16100000,\n 16000000,\n 16000000,\n 16000000,\n 16000000,\n 16100000,\n 16000000,\n 16000000,\n 15900000,\n 15900000,\n 15900000,\n 15900000,\n 15900000,\n 15900000,\n 15900000,\n 15900000,\n 15900000,\n 15800000,\n 15700000,\n 15700000,\n 15700000,\n 15700000,\n 15700000,\n 15700000,\n 15600000,\n 15600000,\n 15600000,\n 15600000,\n 15600000,\n 15600000,\n 15600000,\n 15600000,\n 15600000,\n 15500000,\n 15500000,\n 15500000,\n 15500000,\n 15500000,\n 15500000,\n 15500000,\n 15400000,\n 15300000,\n 15400000,\n 15400000,\n 15400000,\n 15400000,\n 15300000,\n 15300000,\n 15300000,\n 15300000,\n 15300000,\n 15400000,\n 15300000,\n 15200000,\n 15200000,\n 15200000,\n 15200000,\n 15200000,\n 15200000,\n 15100000,\n 15200000,\n 15200000,\n 15100000,\n 15100000,\n 15100000,\n 15100000,\n 15100000,\n 15100000,\n 15100000,\n 15100000,\n 15100000,\n 15000000,\n 15000000,\n 15000000,\n 15000000,\n 15000000,\n 15000000,\n 15000000,\n 15000000,\n 14900000,\n 14900000,\n 14900000,\n 14900000,\n 15000000,\n 14900000,\n 14900000,\n 14900000,\n 14900000,\n 14900000,\n 14900000,\n 14900000,\n 14900000,\n 14900000,\n 14900000,\n 14800000,\n 14800000,\n 14800000,\n 14800000,\n 14800000,\n 14800000,\n 14800000,\n 14800000,\n 14900000,\n 14800000,\n 14800000,\n 14800000,\n 14700000,\n 14700000,\n 14700000,\n 14700000,\n 14700000,\n 14700000,\n 14700000,\n 14700000,\n 14700000,\n 14700000,\n 14700000,\n 14700000,\n 14700000,\n 14700000,\n 14600000,\n 14600000,\n 14600000,\n 14600000,\n 14600000,\n 14600000,\n 14600000,\n 14600000,\n 14600000,\n 14600000,\n 14500000,\n 14500000,\n 14500000,\n 14500000,\n 14500000,\n 14500000,\n 14500000,\n 14500000,\n 14500000,\n 14300000,\n 14400000,\n 14400000,\n 14400000,\n 14400000,\n 14400000,\n 14400000,\n 14400000,\n 14400000,\n 14400000,\n 14400000,\n 14400000,\n 14400000,\n 14400000,\n 14400000,\n 14400000,\n 14400000,\n 14400000,\n 14400000,\n 14300000,\n 14300000,\n 14300000,\n 14300000,\n 14300000,\n 14200000,\n 14200000,\n 14200000,\n 14200000,\n 14200000,\n 14200000,\n 14200000,\n 14100000,\n 14200000,\n 14100000,\n 14100000,\n 14100000,\n 14100000,\n 14100000,\n 14100000,\n 14100000,\n 14100000,\n 14100000,\n 14100000,\n 14100000,\n 14000000,\n 14000000,\n 14000000,\n 14000000,\n 14000000,\n 13900000,\n 13900000,\n 13900000,\n 13900000,\n 13900000,\n 13900000,\n 13900000,\n 13900000,\n 13900000,\n 13900000,\n 13900000,\n 13900000,\n 13800000,\n 13800000,\n 13800000,\n 13700000,\n 13900000,\n 13800000,\n 13800000,\n 13800000,\n 13800000,\n 13900000,\n 13800000,\n 13800000,\n 13700000,\n 13700000,\n 13700000,\n 13700000,\n 13700000,\n 13700000,\n 13900000,\n 13700000,\n 13700000,\n 13700000,\n 13700000,\n 13700000,\n 13700000,\n 13600000,\n 13600000,\n 13600000,\n 13600000,\n 13600000,\n 13600000,\n 13600000,\n 13600000,\n 13500000,\n 13600000,\n 13600000,\n 13500000,\n 13500000,\n 13400000,\n 13500000,\n 13500000,\n 13500000,\n 13500000,\n 13500000,\n 13500000,\n 13500000,\n 13500000,\n 13400000,\n 13400000,\n 13400000,\n 13400000,\n 13400000,\n 13400000,\n 13400000,\n 13400000,\n 13400000,\n 13400000,\n 13400000,\n 13400000,\n 13400000,\n 13400000,\n 13400000,\n 13300000,\n 13300000,\n 13300000,\n 13300000,\n 13300000,\n 13300000,\n 13200000,\n 13300000,\n 13300000,\n 13300000,\n 13300000,\n 13200000,\n 13200000,\n 13200000,\n 13200000,\n 13200000,\n 13200000,\n 13200000,\n 13200000,\n 13200000,\n 13100000,\n 13100000,\n 13100000,\n 13100000,\n 13400000,\n 13100000,\n 13100000,\n 13100000,\n 13100000,\n 13100000,\n 13100000,\n 13100000,\n 13100000,\n 13100000,\n 13100000,\n 13200000,\n 13100000,\n 13000000,\n 13000000,\n 13000000,\n 13000000,\n 13100000,\n 13000000,\n 13100000,\n 13000000,\n 13000000,\n 13000000,\n 13100000,\n 13000000,\n 13000000,\n 13000000,\n 13000000,\n 13000000,\n 12900000,\n 12900000,\n 12900000,\n 12900000,\n 12900000,\n 12900000,\n 12900000,\n 12900000,\n 12900000,\n 12800000,\n 12800000,\n 12800000,\n 12800000,\n 12800000,\n 12800000,\n 12800000,\n 12900000,\n 12800000,\n 13200000,\n 12800000,\n 12700000,\n 12700000,\n 12800000,\n 12700000,\n 12700000,\n 12700000,\n 12800000,\n 12700000,\n 12700000,\n 12600000,\n 12600000,\n 12600000,\n 12600000,\n 12600000,\n 12600000,\n 12600000,\n 12600000,\n 12600000,\n 12600000,\n 12600000,\n 12500000,\n 12600000,\n 12600000,\n 12500000,\n 12500000,\n 12400000,\n 12500000,\n 12500000,\n 12500000,\n 12500000,\n 12500000,\n 12400000,\n 12400000,\n 12400000,\n 12400000,\n 12400000,\n 12400000,\n 12400000,\n 12400000,\n 12400000,\n 12400000,\n 12400000,\n 12400000,\n 12400000,\n 12400000,\n 12400000,\n 12400000,\n 12400000,\n 12400000,\n 12400000,\n 12300000,\n 12300000,\n 12300000,\n 12300000,\n 12300000,\n 12300000,\n 12300000,\n 12300000,\n 12200000,\n 12300000,\n 12300000,\n 12300000,\n 12300000,\n 12300000,\n 12200000,\n 12200000,\n 12300000,\n 12200000,\n 12200000,\n 12200000,\n 12200000,\n 12200000,\n 12200000,\n 12200000,\n 12200000,\n 12200000,\n 12200000,\n 12200000,\n 12100000,\n 12100000,\n 12100000,\n 12100000,\n 12100000,\n 12100000,\n 12100000,\n 12100000,\n 12100000,\n 12100000,\n 12100000,\n 12100000,\n 12000000]"
     },
     "execution_count": 67,
     "metadata": {},
     "output_type": "execute_result"
    }
   ],
   "source": [
    "subscribers_list"
   ],
   "metadata": {
    "collapsed": false,
    "pycharm": {
     "name": "#%%\n"
    }
   }
  },
  {
   "cell_type": "code",
   "execution_count": 69,
   "outputs": [
    {
     "data": {
      "text/plain": "                           name  subscribers    view_count  view_mean  \\\n0                      T-Series    242000000  224020601249   34782385   \n1                YouTube Movies    167000000             0          0   \n2    Cocomelon - Nursery Rhymes    159000000  160523008051     605958   \n3                     SET India    156000000  145638871329     410676   \n4                       MrBeast    155000000   26294817807   98649236   \n..                          ...          ...           ...        ...   \n995                 Wild 'N Out     12100000    4874369002     966482   \n996                  LipaoGamer     12100000    4164652102    2133110   \n997             Black Eyed Peas     12100000   10698945790    7786915   \n998                      Ð¡Ð¢Ð¡     12100000   10450163034     803832   \n999                 RobTopGames     12000000     368308723    6082589   \n\n     video_count        category  youtube_since  \n0          19693           Music           2006  \n1              0  Film&Animation           2015  \n2            917       Education           2006  \n3         112933           Shows           2006  \n4            738   Entertainment           2012  \n..           ...             ...            ...  \n995         1502   Entertainment           2006  \n996        11501          Gaming           2011  \n997           96           Music           2007  \n998        10748    People&Blogs           2007  \n999           39          Gaming           2012  \n\n[1000 rows x 7 columns]",
      "text/html": "<div>\n<style scoped>\n    .dataframe tbody tr th:only-of-type {\n        vertical-align: middle;\n    }\n\n    .dataframe tbody tr th {\n        vertical-align: top;\n    }\n\n    .dataframe thead th {\n        text-align: right;\n    }\n</style>\n<table border=\"1\" class=\"dataframe\">\n  <thead>\n    <tr style=\"text-align: right;\">\n      <th></th>\n      <th>name</th>\n      <th>subscribers</th>\n      <th>view_count</th>\n      <th>view_mean</th>\n      <th>video_count</th>\n      <th>category</th>\n      <th>youtube_since</th>\n    </tr>\n  </thead>\n  <tbody>\n    <tr>\n      <th>0</th>\n      <td>T-Series</td>\n      <td>242000000</td>\n      <td>224020601249</td>\n      <td>34782385</td>\n      <td>19693</td>\n      <td>Music</td>\n      <td>2006</td>\n    </tr>\n    <tr>\n      <th>1</th>\n      <td>YouTube Movies</td>\n      <td>167000000</td>\n      <td>0</td>\n      <td>0</td>\n      <td>0</td>\n      <td>Film&amp;Animation</td>\n      <td>2015</td>\n    </tr>\n    <tr>\n      <th>2</th>\n      <td>Cocomelon - Nursery Rhymes</td>\n      <td>159000000</td>\n      <td>160523008051</td>\n      <td>605958</td>\n      <td>917</td>\n      <td>Education</td>\n      <td>2006</td>\n    </tr>\n    <tr>\n      <th>3</th>\n      <td>SET India</td>\n      <td>156000000</td>\n      <td>145638871329</td>\n      <td>410676</td>\n      <td>112933</td>\n      <td>Shows</td>\n      <td>2006</td>\n    </tr>\n    <tr>\n      <th>4</th>\n      <td>MrBeast</td>\n      <td>155000000</td>\n      <td>26294817807</td>\n      <td>98649236</td>\n      <td>738</td>\n      <td>Entertainment</td>\n      <td>2012</td>\n    </tr>\n    <tr>\n      <th>...</th>\n      <td>...</td>\n      <td>...</td>\n      <td>...</td>\n      <td>...</td>\n      <td>...</td>\n      <td>...</td>\n      <td>...</td>\n    </tr>\n    <tr>\n      <th>995</th>\n      <td>Wild 'N Out</td>\n      <td>12100000</td>\n      <td>4874369002</td>\n      <td>966482</td>\n      <td>1502</td>\n      <td>Entertainment</td>\n      <td>2006</td>\n    </tr>\n    <tr>\n      <th>996</th>\n      <td>LipaoGamer</td>\n      <td>12100000</td>\n      <td>4164652102</td>\n      <td>2133110</td>\n      <td>11501</td>\n      <td>Gaming</td>\n      <td>2011</td>\n    </tr>\n    <tr>\n      <th>997</th>\n      <td>Black Eyed Peas</td>\n      <td>12100000</td>\n      <td>10698945790</td>\n      <td>7786915</td>\n      <td>96</td>\n      <td>Music</td>\n      <td>2007</td>\n    </tr>\n    <tr>\n      <th>998</th>\n      <td>Ð¡Ð¢Ð¡</td>\n      <td>12100000</td>\n      <td>10450163034</td>\n      <td>803832</td>\n      <td>10748</td>\n      <td>People&amp;Blogs</td>\n      <td>2007</td>\n    </tr>\n    <tr>\n      <th>999</th>\n      <td>RobTopGames</td>\n      <td>12000000</td>\n      <td>368308723</td>\n      <td>6082589</td>\n      <td>39</td>\n      <td>Gaming</td>\n      <td>2012</td>\n    </tr>\n  </tbody>\n</table>\n<p>1000 rows × 7 columns</p>\n</div>"
     },
     "execution_count": 69,
     "metadata": {},
     "output_type": "execute_result"
    }
   ],
   "source": [
    "df.loc[~(df==0).all(axis=1)]"
   ],
   "metadata": {
    "collapsed": false,
    "pycharm": {
     "name": "#%%\n"
    }
   }
  },
  {
   "cell_type": "code",
   "execution_count": 75,
   "outputs": [],
   "source": [
    "df1=df.loc[(df != 0).all(axis=1)]"
   ],
   "metadata": {
    "collapsed": false,
    "pycharm": {
     "name": "#%%\n"
    }
   }
  },
  {
   "cell_type": "code",
   "execution_count": 76,
   "outputs": [],
   "source": [
    "df1.to_csv(\"/Users/jongmin/Downloads/ds_remove0.csv\", mode='w')"
   ],
   "metadata": {
    "collapsed": false,
    "pycharm": {
     "name": "#%%\n"
    }
   }
  },
  {
   "cell_type": "code",
   "execution_count": null,
   "outputs": [],
   "source": [],
   "metadata": {
    "collapsed": false,
    "pycharm": {
     "name": "#%%\n"
    }
   }
  }
 ],
 "metadata": {
  "kernelspec": {
   "display_name": "Python 3",
   "language": "python",
   "name": "python3"
  },
  "language_info": {
   "codemirror_mode": {
    "name": "ipython",
    "version": 2
   },
   "file_extension": ".py",
   "mimetype": "text/x-python",
   "name": "python",
   "nbconvert_exporter": "python",
   "pygments_lexer": "ipython2",
   "version": "2.7.6"
  }
 },
 "nbformat": 4,
 "nbformat_minor": 0
}
